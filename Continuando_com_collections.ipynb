{
  "nbformat": 4,
  "nbformat_minor": 0,
  "metadata": {
    "colab": {
      "name": "Continuando com collections",
      "provenance": [],
      "collapsed_sections": [],
      "authorship_tag": "ABX9TyMuinWQjPduPJ+JBxFSQo3v",
      "include_colab_link": true
    },
    "kernelspec": {
      "name": "python3",
      "display_name": "Python 3"
    }
  },
  "cells": [
    {
      "cell_type": "markdown",
      "metadata": {
        "id": "view-in-github",
        "colab_type": "text"
      },
      "source": [
        "<a href=\"https://colab.research.google.com/github/rlaecio/python_collections_II/blob/main/Continuando_com_collections.ipynb\" target=\"_parent\"><img src=\"https://colab.research.google.com/assets/colab-badge.svg\" alt=\"Open In Colab\"/></a>"
      ]
    },
    {
      "cell_type": "code",
      "metadata": {
        "id": "6_fXEU8bR6b1"
      },
      "source": [
        "usuarios_data_science = [ 15, 23, 43, 56]\n",
        "usuarios_machine_learning = [13, 23, 56, 42]"
      ],
      "execution_count": 1,
      "outputs": []
    },
    {
      "cell_type": "code",
      "metadata": {
        "colab": {
          "base_uri": "https://localhost:8080/"
        },
        "id": "pRR9-wfMSOt5",
        "outputId": "1e40ccbc-e3c6-4d14-f5d9-dee15ee9eca7"
      },
      "source": [
        "assistiram = usuarios_data_science.copy()\n",
        "assistiram.extend(usuarios_machine_learning)\n",
        "assistiram"
      ],
      "execution_count": 4,
      "outputs": [
        {
          "output_type": "execute_result",
          "data": {
            "text/plain": [
              "[15, 23, 43, 56, 13, 23, 56, 42]"
            ]
          },
          "metadata": {
            "tags": []
          },
          "execution_count": 4
        }
      ]
    },
    {
      "cell_type": "markdown",
      "metadata": {
        "id": "LVQs5t7kVyZU"
      },
      "source": [
        "#Trabalhando com conjuntos"
      ]
    },
    {
      "cell_type": "code",
      "metadata": {
        "colab": {
          "base_uri": "https://localhost:8080/"
        },
        "id": "D_ovyVavSay2",
        "outputId": "b2432ce3-d403-4a5e-eca0-06c03fc30308"
      },
      "source": [
        "len(assistiram)"
      ],
      "execution_count": 5,
      "outputs": [
        {
          "output_type": "execute_result",
          "data": {
            "text/plain": [
              "8"
            ]
          },
          "metadata": {
            "tags": []
          },
          "execution_count": 5
        }
      ]
    },
    {
      "cell_type": "code",
      "metadata": {
        "colab": {
          "base_uri": "https://localhost:8080/"
        },
        "id": "NtsygcdRTDgE",
        "outputId": "2b437e78-1c5a-4589-c34a-8157c9683299"
      },
      "source": [
        "set(assistiram)"
      ],
      "execution_count": 6,
      "outputs": [
        {
          "output_type": "execute_result",
          "data": {
            "text/plain": [
              "{13, 15, 23, 42, 43, 56}"
            ]
          },
          "metadata": {
            "tags": []
          },
          "execution_count": 6
        }
      ]
    },
    {
      "cell_type": "code",
      "metadata": {
        "colab": {
          "base_uri": "https://localhost:8080/"
        },
        "id": "8lPCO_9HTUEx",
        "outputId": "683e4ccc-901b-42fd-e27a-e17c893d3955"
      },
      "source": [
        "set([1,4,5,7,8,9,9,8,7])"
      ],
      "execution_count": 7,
      "outputs": [
        {
          "output_type": "execute_result",
          "data": {
            "text/plain": [
              "{1, 4, 5, 7, 8, 9}"
            ]
          },
          "metadata": {
            "tags": []
          },
          "execution_count": 7
        }
      ]
    },
    {
      "cell_type": "code",
      "metadata": {
        "colab": {
          "base_uri": "https://localhost:8080/"
        },
        "id": "Y3pUVj9KTzNB",
        "outputId": "66e30ff6-3f93-4f30-e73d-6869c40018cb"
      },
      "source": [
        "type({1,2,3,4,5})"
      ],
      "execution_count": 8,
      "outputs": [
        {
          "output_type": "execute_result",
          "data": {
            "text/plain": [
              "set"
            ]
          },
          "metadata": {
            "tags": []
          },
          "execution_count": 8
        }
      ]
    },
    {
      "cell_type": "code",
      "metadata": {
        "id": "Gdbycl_PT4CT"
      },
      "source": [
        "usuarios_data_science = {15, 23, 43, 56 }\n",
        "usuarios_machine_learning = {13, 23, 56, 42}"
      ],
      "execution_count": 9,
      "outputs": []
    },
    {
      "cell_type": "code",
      "metadata": {
        "colab": {
          "base_uri": "https://localhost:8080/"
        },
        "id": "TmDEWeEYUBQH",
        "outputId": "1fba9dd2-7013-4f0c-89cd-8f94b7f2de41"
      },
      "source": [
        "assistiram = usuarios_data_science.copy()\n",
        "assistiram\n"
      ],
      "execution_count": 11,
      "outputs": [
        {
          "output_type": "execute_result",
          "data": {
            "text/plain": [
              "{15, 23, 43, 56}"
            ]
          },
          "metadata": {
            "tags": []
          },
          "execution_count": 11
        }
      ]
    },
    {
      "cell_type": "code",
      "metadata": {
        "colab": {
          "base_uri": "https://localhost:8080/"
        },
        "id": "QF09XG5XUEWO",
        "outputId": "f464bfb6-a341-4b82-e910-c1dce9a970f0"
      },
      "source": [
        "usuarios_data_science = [ 15, 23, 43, 56]\n",
        "usuarios_machine_learning = [13, 23, 56, 42]\n",
        "assistiram = usuarios_data_science.copy()\n",
        "assistiram.extend(usuarios_machine_learning)\n",
        "set(assistiram)"
      ],
      "execution_count": 12,
      "outputs": [
        {
          "output_type": "execute_result",
          "data": {
            "text/plain": [
              "{13, 15, 23, 42, 43, 56}"
            ]
          },
          "metadata": {
            "tags": []
          },
          "execution_count": 12
        }
      ]
    },
    {
      "cell_type": "code",
      "metadata": {
        "colab": {
          "base_uri": "https://localhost:8080/"
        },
        "id": "ZDkdKfi9UeHa",
        "outputId": "48c4ba03-8dfd-4cdb-db69-142f4cdceb56"
      },
      "source": [
        "for usuario in set(assistiram):\n",
        "  print(usuario)"
      ],
      "execution_count": 15,
      "outputs": [
        {
          "output_type": "stream",
          "text": [
            "42\n",
            "43\n",
            "13\n",
            "15\n",
            "23\n",
            "56\n"
          ],
          "name": "stdout"
        }
      ]
    },
    {
      "cell_type": "code",
      "metadata": {
        "id": "5_EjrM3bUjZU"
      },
      "source": [
        "usuarios_data_science = {15, 23, 43, 56 }\n",
        "usuarios_machine_learning = {13, 23, 56, 42}"
      ],
      "execution_count": 16,
      "outputs": []
    },
    {
      "cell_type": "code",
      "metadata": {
        "colab": {
          "base_uri": "https://localhost:8080/"
        },
        "id": "giYE_AJNUwQj",
        "outputId": "8fad466f-37a8-4ac5-8681-41ba5b7d8c60"
      },
      "source": [
        "usuarios_data_science | usuarios_machine_learning"
      ],
      "execution_count": 17,
      "outputs": [
        {
          "output_type": "execute_result",
          "data": {
            "text/plain": [
              "{13, 15, 23, 42, 43, 56}"
            ]
          },
          "metadata": {
            "tags": []
          },
          "execution_count": 17
        }
      ]
    },
    {
      "cell_type": "code",
      "metadata": {
        "colab": {
          "base_uri": "https://localhost:8080/"
        },
        "id": "envlHiIKUzMD",
        "outputId": "5aa1dc93-6724-43c9-b813-59264179b360"
      },
      "source": [
        "assistiram = usuarios_data_science | usuarios_machine_learning\n",
        "assistiram"
      ],
      "execution_count": 18,
      "outputs": [
        {
          "output_type": "execute_result",
          "data": {
            "text/plain": [
              "{13, 15, 23, 42, 43, 56}"
            ]
          },
          "metadata": {
            "tags": []
          },
          "execution_count": 18
        }
      ]
    },
    {
      "cell_type": "code",
      "metadata": {
        "id": "GTfWSFxeVG1S"
      },
      "source": [
        ""
      ],
      "execution_count": null,
      "outputs": []
    },
    {
      "cell_type": "markdown",
      "metadata": {
        "id": "Xiehs0ClV6_A"
      },
      "source": [
        "#Operações com conjuntos"
      ]
    },
    {
      "cell_type": "code",
      "metadata": {
        "colab": {
          "base_uri": "https://localhost:8080/"
        },
        "id": "qhtDgs0WV9w7",
        "outputId": "8ea707d7-cd75-4cf5-e456-9b063f51603b"
      },
      "source": [
        "usuarios_data_science & usuarios_machine_learning"
      ],
      "execution_count": 19,
      "outputs": [
        {
          "output_type": "execute_result",
          "data": {
            "text/plain": [
              "{23, 56}"
            ]
          },
          "metadata": {
            "tags": []
          },
          "execution_count": 19
        }
      ]
    },
    {
      "cell_type": "code",
      "metadata": {
        "colab": {
          "base_uri": "https://localhost:8080/"
        },
        "id": "M79XM_tIWHFB",
        "outputId": "888a9daa-8b91-4af7-b19f-eb6100014a87"
      },
      "source": [
        "usuarios_data_science - usuarios_machine_learning"
      ],
      "execution_count": 20,
      "outputs": [
        {
          "output_type": "execute_result",
          "data": {
            "text/plain": [
              "{15, 43}"
            ]
          },
          "metadata": {
            "tags": []
          },
          "execution_count": 20
        }
      ]
    },
    {
      "cell_type": "code",
      "metadata": {
        "colab": {
          "base_uri": "https://localhost:8080/"
        },
        "id": "ZJNa6g9jWicY",
        "outputId": "4b2dccde-94be-4dda-fbf6-ab44295384b0"
      },
      "source": [
        "fez_ds_mas_nao_fez_ml = usuarios_data_science - usuarios_machine_learning\n",
        "15 in fez_ds_mas_nao_fez_ml"
      ],
      "execution_count": 21,
      "outputs": [
        {
          "output_type": "execute_result",
          "data": {
            "text/plain": [
              "True"
            ]
          },
          "metadata": {
            "tags": []
          },
          "execution_count": 21
        }
      ]
    },
    {
      "cell_type": "code",
      "metadata": {
        "colab": {
          "base_uri": "https://localhost:8080/"
        },
        "id": "kdtZygEwXDc_",
        "outputId": "56314680-a1c4-47d7-f1b9-b4a2463b8234"
      },
      "source": [
        "usuarios_data_science ^ usuarios_machine_learning"
      ],
      "execution_count": 23,
      "outputs": [
        {
          "output_type": "execute_result",
          "data": {
            "text/plain": [
              "{13, 15, 42, 43}"
            ]
          },
          "metadata": {
            "tags": []
          },
          "execution_count": 23
        }
      ]
    },
    {
      "cell_type": "code",
      "metadata": {
        "colab": {
          "base_uri": "https://localhost:8080/"
        },
        "id": "ULvSwVkJXNVd",
        "outputId": "d63eba5a-1da7-4af5-d08c-6f5ad2e057bc"
      },
      "source": [
        "usuarios = {1,5,76,34,52,13,17}\n",
        "len(usuarios)"
      ],
      "execution_count": 24,
      "outputs": [
        {
          "output_type": "execute_result",
          "data": {
            "text/plain": [
              "7"
            ]
          },
          "metadata": {
            "tags": []
          },
          "execution_count": 24
        }
      ]
    },
    {
      "cell_type": "code",
      "metadata": {
        "colab": {
          "base_uri": "https://localhost:8080/"
        },
        "id": "kEZPpJCxX68Y",
        "outputId": "33e8e2a2-7468-4d41-e5fe-ad8685656b2e"
      },
      "source": [
        "usuarios.add(13)\n",
        "len(usuarios)"
      ],
      "execution_count": 26,
      "outputs": [
        {
          "output_type": "execute_result",
          "data": {
            "text/plain": [
              "7"
            ]
          },
          "metadata": {
            "tags": []
          },
          "execution_count": 26
        }
      ]
    },
    {
      "cell_type": "code",
      "metadata": {
        "colab": {
          "base_uri": "https://localhost:8080/"
        },
        "id": "_Q_Hzlc8YASK",
        "outputId": "57f78830-3ec1-4d71-9130-621eb1c06d80"
      },
      "source": [
        "usuarios.add(768)\n",
        "len(usuarios)"
      ],
      "execution_count": 27,
      "outputs": [
        {
          "output_type": "execute_result",
          "data": {
            "text/plain": [
              "8"
            ]
          },
          "metadata": {
            "tags": []
          },
          "execution_count": 27
        }
      ]
    },
    {
      "cell_type": "code",
      "metadata": {
        "colab": {
          "base_uri": "https://localhost:8080/"
        },
        "id": "Fhhtps0aYPHf",
        "outputId": "ffff420e-dbb2-4436-8ef1-60eaeff5439e"
      },
      "source": [
        "usuarios"
      ],
      "execution_count": 28,
      "outputs": [
        {
          "output_type": "execute_result",
          "data": {
            "text/plain": [
              "{1, 5, 13, 17, 34, 52, 76, 768}"
            ]
          },
          "metadata": {
            "tags": []
          },
          "execution_count": 28
        }
      ]
    },
    {
      "cell_type": "code",
      "metadata": {
        "id": "f1iLHMTgYQl0"
      },
      "source": [
        "usuarios = frozenset(usuarios)"
      ],
      "execution_count": 30,
      "outputs": []
    },
    {
      "cell_type": "code",
      "metadata": {
        "colab": {
          "base_uri": "https://localhost:8080/"
        },
        "id": "q6H4cKmiY5kb",
        "outputId": "7099eb6e-3901-4a9f-e36b-607abdd85e79"
      },
      "source": [
        "type(usuarios)"
      ],
      "execution_count": 31,
      "outputs": [
        {
          "output_type": "execute_result",
          "data": {
            "text/plain": [
              "frozenset"
            ]
          },
          "metadata": {
            "tags": []
          },
          "execution_count": 31
        }
      ]
    },
    {
      "cell_type": "code",
      "metadata": {
        "colab": {
          "base_uri": "https://localhost:8080/"
        },
        "id": "I1MNf5ozZDwB",
        "outputId": "f3571303-6aaa-45d1-f967-030f1e946c4b"
      },
      "source": [
        "meu_texto = \"Teste de texto em python colecctions aplicando conjuntos e regras de conjuntos\"\n",
        "meu_texto.split()"
      ],
      "execution_count": 36,
      "outputs": [
        {
          "output_type": "execute_result",
          "data": {
            "text/plain": [
              "['Teste',\n",
              " 'de',\n",
              " 'texto',\n",
              " 'em',\n",
              " 'python',\n",
              " 'colecctions',\n",
              " 'aplicando',\n",
              " 'conjuntos',\n",
              " 'e',\n",
              " 'regras',\n",
              " 'de',\n",
              " 'conjuntos']"
            ]
          },
          "metadata": {
            "tags": []
          },
          "execution_count": 36
        }
      ]
    },
    {
      "cell_type": "code",
      "metadata": {
        "colab": {
          "base_uri": "https://localhost:8080/"
        },
        "id": "Y1p5iMgXZVCz",
        "outputId": "298555a7-d4f0-43fe-914d-9a1926b0c333"
      },
      "source": [
        "set(meu_texto.split())"
      ],
      "execution_count": 37,
      "outputs": [
        {
          "output_type": "execute_result",
          "data": {
            "text/plain": [
              "{'Teste',\n",
              " 'aplicando',\n",
              " 'colecctions',\n",
              " 'conjuntos',\n",
              " 'de',\n",
              " 'e',\n",
              " 'em',\n",
              " 'python',\n",
              " 'regras',\n",
              " 'texto'}"
            ]
          },
          "metadata": {
            "tags": []
          },
          "execution_count": 37
        }
      ]
    },
    {
      "cell_type": "code",
      "metadata": {
        "id": "zdr-ivFgZYg_"
      },
      "source": [
        ""
      ],
      "execution_count": null,
      "outputs": []
    },
    {
      "cell_type": "markdown",
      "metadata": {
        "id": "_h0z64vJaJAF"
      },
      "source": [
        "#Dicionários (Mapa etc)"
      ]
    },
    {
      "cell_type": "code",
      "metadata": {
        "id": "H3xmFqC1aK0_"
      },
      "source": [
        "aparicoes = {\n",
        "    \"Guilherme\" : 1,\n",
        "    \"cachorro\" : 2,\n",
        "    \"nome\" : 2,\n",
        "    \"vindo\" : 1\n",
        "}"
      ],
      "execution_count": 41,
      "outputs": []
    },
    {
      "cell_type": "code",
      "metadata": {
        "colab": {
          "base_uri": "https://localhost:8080/"
        },
        "id": "V9xUzUdUbo1Q",
        "outputId": "c52dbbf2-f537-431c-a3c3-e0c163ca0bfa"
      },
      "source": [
        "type(aparicoes)"
      ],
      "execution_count": 39,
      "outputs": [
        {
          "output_type": "execute_result",
          "data": {
            "text/plain": [
              "dict"
            ]
          },
          "metadata": {
            "tags": []
          },
          "execution_count": 39
        }
      ]
    },
    {
      "cell_type": "code",
      "metadata": {
        "colab": {
          "base_uri": "https://localhost:8080/"
        },
        "id": "Ic5Tk5n7brMq",
        "outputId": "964c262b-466c-4993-ffef-54ed59802a71"
      },
      "source": [
        "aparicoes[\"Guilherme\"]"
      ],
      "execution_count": 42,
      "outputs": [
        {
          "output_type": "execute_result",
          "data": {
            "text/plain": [
              "1"
            ]
          },
          "metadata": {
            "tags": []
          },
          "execution_count": 42
        }
      ]
    },
    {
      "cell_type": "code",
      "metadata": {
        "colab": {
          "base_uri": "https://localhost:8080/"
        },
        "id": "mCDOs908bunl",
        "outputId": "881dcea5-693c-4e14-9bb6-3b07468dc627"
      },
      "source": [
        "aparicoes[\"cachorro\"]"
      ],
      "execution_count": 43,
      "outputs": [
        {
          "output_type": "execute_result",
          "data": {
            "text/plain": [
              "2"
            ]
          },
          "metadata": {
            "tags": []
          },
          "execution_count": 43
        }
      ]
    },
    {
      "cell_type": "code",
      "metadata": {
        "colab": {
          "base_uri": "https://localhost:8080/",
          "height": 164
        },
        "id": "-PMKRFIib732",
        "outputId": "f37a6b3d-0a7c-44e8-c476-0695663751ba"
      },
      "source": [
        "aparicoes[\"xpto\"]"
      ],
      "execution_count": 44,
      "outputs": [
        {
          "output_type": "error",
          "ename": "KeyError",
          "evalue": "ignored",
          "traceback": [
            "\u001b[0;31m---------------------------------------------------------------------------\u001b[0m",
            "\u001b[0;31mKeyError\u001b[0m                                  Traceback (most recent call last)",
            "\u001b[0;32m<ipython-input-44-5844a27a46e4>\u001b[0m in \u001b[0;36m<module>\u001b[0;34m()\u001b[0m\n\u001b[0;32m----> 1\u001b[0;31m \u001b[0maparicoes\u001b[0m\u001b[0;34m[\u001b[0m\u001b[0;34m\"xpto\"\u001b[0m\u001b[0;34m]\u001b[0m\u001b[0;34m\u001b[0m\u001b[0;34m\u001b[0m\u001b[0m\n\u001b[0m",
            "\u001b[0;31mKeyError\u001b[0m: 'xpto'"
          ]
        }
      ]
    },
    {
      "cell_type": "code",
      "metadata": {
        "colab": {
          "base_uri": "https://localhost:8080/"
        },
        "id": "G02MLDjUcBGt",
        "outputId": "6ea14784-9977-4367-9026-b16568a0b967"
      },
      "source": [
        "aparicoes.get(\"xpto\", 0)\n"
      ],
      "execution_count": 47,
      "outputs": [
        {
          "output_type": "execute_result",
          "data": {
            "text/plain": [
              "0"
            ]
          },
          "metadata": {
            "tags": []
          },
          "execution_count": 47
        }
      ]
    },
    {
      "cell_type": "code",
      "metadata": {
        "colab": {
          "base_uri": "https://localhost:8080/"
        },
        "id": "kU3KFqjCcPqO",
        "outputId": "59f80803-149c-4fe4-e5f9-509aac19d812"
      },
      "source": [
        "aparicoes.get(\"cachorro\", 0)"
      ],
      "execution_count": 48,
      "outputs": [
        {
          "output_type": "execute_result",
          "data": {
            "text/plain": [
              "2"
            ]
          },
          "metadata": {
            "tags": []
          },
          "execution_count": 48
        }
      ]
    },
    {
      "cell_type": "code",
      "metadata": {
        "colab": {
          "base_uri": "https://localhost:8080/"
        },
        "id": "iK9KDMqecZD8",
        "outputId": "a47e1919-e0b0-42e8-db93-26340426e86f"
      },
      "source": [
        "aparicoes = dict(Guilherme = 1, cachorro = 2)\n",
        "aparicoes"
      ],
      "execution_count": 49,
      "outputs": [
        {
          "output_type": "execute_result",
          "data": {
            "text/plain": [
              "{'Guilherme': 1, 'cachorro': 2}"
            ]
          },
          "metadata": {
            "tags": []
          },
          "execution_count": 49
        }
      ]
    },
    {
      "cell_type": "code",
      "metadata": {
        "id": "31UXs_76dumU"
      },
      "source": [
        "aparicoes = {\n",
        "    \"Guilherme\" : 1,\n",
        "    \"cachorro\" : 2,\n",
        "    \"nome\" : 2,\n",
        "    \"vindo\" : 1\n",
        "}"
      ],
      "execution_count": 55,
      "outputs": []
    },
    {
      "cell_type": "code",
      "metadata": {
        "colab": {
          "base_uri": "https://localhost:8080/"
        },
        "id": "R25rQRKecw8d",
        "outputId": "6d794e58-22ce-4d48-8edf-3c99ebb63269"
      },
      "source": [
        "aparicoes[\"Carlos\"] = 1\n",
        "aparicoes"
      ],
      "execution_count": 50,
      "outputs": [
        {
          "output_type": "execute_result",
          "data": {
            "text/plain": [
              "{'Carlos': 1, 'Guilherme': 1, 'cachorro': 2}"
            ]
          },
          "metadata": {
            "tags": []
          },
          "execution_count": 50
        }
      ]
    },
    {
      "cell_type": "code",
      "metadata": {
        "colab": {
          "base_uri": "https://localhost:8080/"
        },
        "id": "-dNDYZtvdJnP",
        "outputId": "fb48e993-f2ac-48bb-9b78-fbf7bbb8102f"
      },
      "source": [
        "aparicoes[\"Carlos\"] = 3\n",
        "aparicoes"
      ],
      "execution_count": 51,
      "outputs": [
        {
          "output_type": "execute_result",
          "data": {
            "text/plain": [
              "{'Carlos': 3, 'Guilherme': 1, 'cachorro': 2}"
            ]
          },
          "metadata": {
            "tags": []
          },
          "execution_count": 51
        }
      ]
    },
    {
      "cell_type": "code",
      "metadata": {
        "colab": {
          "base_uri": "https://localhost:8080/"
        },
        "id": "Qg-T_GjOdPwD",
        "outputId": "dc16bcbe-8993-4445-cc36-0444f5293810"
      },
      "source": [
        "del aparicoes[\"Carlos\"]\n",
        "aparicoes"
      ],
      "execution_count": 52,
      "outputs": [
        {
          "output_type": "execute_result",
          "data": {
            "text/plain": [
              "{'Guilherme': 1, 'cachorro': 2}"
            ]
          },
          "metadata": {
            "tags": []
          },
          "execution_count": 52
        }
      ]
    },
    {
      "cell_type": "code",
      "metadata": {
        "colab": {
          "base_uri": "https://localhost:8080/"
        },
        "id": "4V_ym70DdV2d",
        "outputId": "9d68d2ef-6972-4dbc-e4ca-df3fa604ca3b"
      },
      "source": [
        "\"cachorro\" in aparicoes"
      ],
      "execution_count": 53,
      "outputs": [
        {
          "output_type": "execute_result",
          "data": {
            "text/plain": [
              "True"
            ]
          },
          "metadata": {
            "tags": []
          },
          "execution_count": 53
        }
      ]
    },
    {
      "cell_type": "code",
      "metadata": {
        "colab": {
          "base_uri": "https://localhost:8080/"
        },
        "id": "Yh9rppEGdZua",
        "outputId": "59ba0840-9b44-40f2-f98b-f939c61dcb13"
      },
      "source": [
        "for elemento in aparicoes:\n",
        "  print(elemento)"
      ],
      "execution_count": 56,
      "outputs": [
        {
          "output_type": "stream",
          "text": [
            "Guilherme\n",
            "cachorro\n",
            "nome\n",
            "vindo\n"
          ],
          "name": "stdout"
        }
      ]
    },
    {
      "cell_type": "code",
      "metadata": {
        "colab": {
          "base_uri": "https://localhost:8080/"
        },
        "id": "FPzDxu9Adeye",
        "outputId": "b7ec0506-697c-45b9-b039-f9863e4af00b"
      },
      "source": [
        "for elemento in aparicoes.keys():\n",
        "  print(elemento)"
      ],
      "execution_count": 57,
      "outputs": [
        {
          "output_type": "stream",
          "text": [
            "Guilherme\n",
            "cachorro\n",
            "nome\n",
            "vindo\n"
          ],
          "name": "stdout"
        }
      ]
    },
    {
      "cell_type": "code",
      "metadata": {
        "colab": {
          "base_uri": "https://localhost:8080/"
        },
        "id": "DETUrlUad7VA",
        "outputId": "85206b8a-5a49-47b4-e370-39cd33f4657c"
      },
      "source": [
        "for elemento in aparicoes.values():\n",
        "  print(elemento)"
      ],
      "execution_count": 59,
      "outputs": [
        {
          "output_type": "stream",
          "text": [
            "1\n",
            "2\n",
            "2\n",
            "1\n"
          ],
          "name": "stdout"
        }
      ]
    },
    {
      "cell_type": "code",
      "metadata": {
        "colab": {
          "base_uri": "https://localhost:8080/"
        },
        "id": "j2inAzj9d-B7",
        "outputId": "7fb65f2a-2840-4736-df63-0f93f64c9cb5"
      },
      "source": [
        "for elemento in aparicoes.items():\n",
        "  print(elemento)"
      ],
      "execution_count": 60,
      "outputs": [
        {
          "output_type": "stream",
          "text": [
            "('Guilherme', 1)\n",
            "('cachorro', 2)\n",
            "('nome', 2)\n",
            "('vindo', 1)\n"
          ],
          "name": "stdout"
        }
      ]
    },
    {
      "cell_type": "code",
      "metadata": {
        "id": "EATnIi8yeOwu"
      },
      "source": [
        ""
      ],
      "execution_count": null,
      "outputs": []
    },
    {
      "cell_type": "markdown",
      "metadata": {
        "id": "SkuWheaffEcQ"
      },
      "source": [
        "#Default dict"
      ]
    },
    {
      "cell_type": "code",
      "metadata": {
        "id": "hjnK2OmMfF-T"
      },
      "source": [
        "meu_texto = \"Bem vindo meu nome é Roque eu gosto muito de cachorros mas não tenho cachorros\""
      ],
      "execution_count": 65,
      "outputs": []
    },
    {
      "cell_type": "code",
      "metadata": {
        "colab": {
          "base_uri": "https://localhost:8080/",
          "height": 35
        },
        "id": "CjL997Q1fJ8G",
        "outputId": "f6c3df0c-030d-471b-d6da-699d9f72d54f"
      },
      "source": [
        "meu_texto_preparado = meu_texto.lower()\n",
        "meu_texto_preparado"
      ],
      "execution_count": 66,
      "outputs": [
        {
          "output_type": "execute_result",
          "data": {
            "application/vnd.google.colaboratory.intrinsic+json": {
              "type": "string"
            },
            "text/plain": [
              "'bem vindo meu nome é roque eu gosto muito de cachorros mas não tenho cachorros'"
            ]
          },
          "metadata": {
            "tags": []
          },
          "execution_count": 66
        }
      ]
    },
    {
      "cell_type": "code",
      "metadata": {
        "colab": {
          "base_uri": "https://localhost:8080/"
        },
        "id": "Yhu9kXUPffdK",
        "outputId": "bc71da3c-7d3b-4a45-c721-907f89ad79b6"
      },
      "source": [
        "aparicoes = {}\n",
        "for palavra in meu_texto_preparado.split():\n",
        "  ate_agora = aparicoes.get(palavra, 0)\n",
        "  aparicoes[palavra] = ate_agora + 1\n",
        "\n",
        "aparicoes"
      ],
      "execution_count": 67,
      "outputs": [
        {
          "output_type": "execute_result",
          "data": {
            "text/plain": [
              "{'bem': 1,\n",
              " 'cachorros': 2,\n",
              " 'de': 1,\n",
              " 'eu': 1,\n",
              " 'gosto': 1,\n",
              " 'mas': 1,\n",
              " 'meu': 1,\n",
              " 'muito': 1,\n",
              " 'nome': 1,\n",
              " 'não': 1,\n",
              " 'roque': 1,\n",
              " 'tenho': 1,\n",
              " 'vindo': 1,\n",
              " 'é': 1}"
            ]
          },
          "metadata": {
            "tags": []
          },
          "execution_count": 67
        }
      ]
    },
    {
      "cell_type": "code",
      "metadata": {
        "id": "9yh7xjfQgnLx"
      },
      "source": [
        "from collections import defaultdict "
      ],
      "execution_count": 68,
      "outputs": []
    },
    {
      "cell_type": "code",
      "metadata": {
        "colab": {
          "base_uri": "https://localhost:8080/"
        },
        "id": "r2Db0ZhK7ZtF",
        "outputId": "5b812593-e696-44b2-87b3-7beedae99d13"
      },
      "source": [
        "aparicoes = defaultdict(int)\n",
        "for palavra in meu_texto_preparado.split():\n",
        "  ate_agora = aparicoes[palavra]\n",
        "  aparicoes[palavra] = ate_agora + 1\n",
        "\n",
        "aparicoes"
      ],
      "execution_count": 71,
      "outputs": [
        {
          "output_type": "execute_result",
          "data": {
            "text/plain": [
              "defaultdict(int,\n",
              "            {'bem': 1,\n",
              "             'cachorros': 2,\n",
              "             'de': 1,\n",
              "             'eu': 1,\n",
              "             'gosto': 1,\n",
              "             'mas': 1,\n",
              "             'meu': 1,\n",
              "             'muito': 1,\n",
              "             'nome': 1,\n",
              "             'não': 1,\n",
              "             'roque': 1,\n",
              "             'tenho': 1,\n",
              "             'vindo': 1,\n",
              "             'é': 1})"
            ]
          },
          "metadata": {
            "tags": []
          },
          "execution_count": 71
        }
      ]
    },
    {
      "cell_type": "code",
      "metadata": {
        "colab": {
          "base_uri": "https://localhost:8080/"
        },
        "id": "Fmxx-Yty78w5",
        "outputId": "3fe2a20a-ce97-4a67-ef8a-6e239a3e0a56"
      },
      "source": [
        "aparicoes = defaultdict(int)\n",
        "for palavra in meu_texto_preparado.split():\n",
        "  aparicoes[palavra] += 1\n",
        "\n",
        "aparicoes"
      ],
      "execution_count": 72,
      "outputs": [
        {
          "output_type": "execute_result",
          "data": {
            "text/plain": [
              "defaultdict(int,\n",
              "            {'bem': 1,\n",
              "             'cachorros': 2,\n",
              "             'de': 1,\n",
              "             'eu': 1,\n",
              "             'gosto': 1,\n",
              "             'mas': 1,\n",
              "             'meu': 1,\n",
              "             'muito': 1,\n",
              "             'nome': 1,\n",
              "             'não': 1,\n",
              "             'roque': 1,\n",
              "             'tenho': 1,\n",
              "             'vindo': 1,\n",
              "             'é': 1})"
            ]
          },
          "metadata": {
            "tags": []
          },
          "execution_count": 72
        }
      ]
    },
    {
      "cell_type": "code",
      "metadata": {
        "id": "STzGOOuI87TD"
      },
      "source": [
        "class Conta:\n",
        "  def __init__(self):\n",
        "    print(\"Criando uma conta\")"
      ],
      "execution_count": 75,
      "outputs": []
    },
    {
      "cell_type": "code",
      "metadata": {
        "colab": {
          "base_uri": "https://localhost:8080/"
        },
        "id": "0tHGdfcK9G_x",
        "outputId": "afe6fffc-e0e6-49e0-da72-c424e166128b"
      },
      "source": [
        "contas = defaultdict(Conta)\n",
        "contas[15]"
      ],
      "execution_count": 76,
      "outputs": [
        {
          "output_type": "stream",
          "text": [
            "Criando uma conta\n"
          ],
          "name": "stdout"
        },
        {
          "output_type": "execute_result",
          "data": {
            "text/plain": [
              "<__main__.Conta at 0x7ffaca161b38>"
            ]
          },
          "metadata": {
            "tags": []
          },
          "execution_count": 76
        }
      ]
    },
    {
      "cell_type": "code",
      "metadata": {
        "colab": {
          "base_uri": "https://localhost:8080/"
        },
        "id": "1qS-AzHo9Nmb",
        "outputId": "d309b5c4-d0e1-4ce2-ea1c-ea4cc01dd2dd"
      },
      "source": [
        "contas[17]"
      ],
      "execution_count": 77,
      "outputs": [
        {
          "output_type": "stream",
          "text": [
            "Criando uma conta\n"
          ],
          "name": "stdout"
        },
        {
          "output_type": "execute_result",
          "data": {
            "text/plain": [
              "<__main__.Conta at 0x7ffaca238550>"
            ]
          },
          "metadata": {
            "tags": []
          },
          "execution_count": 77
        }
      ]
    },
    {
      "cell_type": "code",
      "metadata": {
        "colab": {
          "base_uri": "https://localhost:8080/"
        },
        "id": "ezLJzsNN9TVu",
        "outputId": "765df1cb-256c-4ef6-cfb5-dcc6ca06fec5"
      },
      "source": [
        "from collections import Counter\n",
        "aparicoes = Counter(meu_texto.split())\n",
        "aparicoes"
      ],
      "execution_count": 78,
      "outputs": [
        {
          "output_type": "execute_result",
          "data": {
            "text/plain": [
              "Counter({'Bem': 1,\n",
              "         'Roque': 1,\n",
              "         'cachorros': 2,\n",
              "         'de': 1,\n",
              "         'eu': 1,\n",
              "         'gosto': 1,\n",
              "         'mas': 1,\n",
              "         'meu': 1,\n",
              "         'muito': 1,\n",
              "         'nome': 1,\n",
              "         'não': 1,\n",
              "         'tenho': 1,\n",
              "         'vindo': 1,\n",
              "         'é': 1})"
            ]
          },
          "metadata": {
            "tags": []
          },
          "execution_count": 78
        }
      ]
    },
    {
      "cell_type": "code",
      "metadata": {
        "id": "hC6Whl3G9sO0"
      },
      "source": [
        ""
      ],
      "execution_count": null,
      "outputs": []
    },
    {
      "cell_type": "markdown",
      "metadata": {
        "id": "aoq4O42V-GQd"
      },
      "source": [
        "#Testando diversas collections"
      ]
    },
    {
      "cell_type": "code",
      "metadata": {
        "id": "G3MLCfYV-Jry"
      },
      "source": [
        "texto1 = \"\"\"\n",
        "Bem-vindos à primeira parte do curso de Blogs Corporativos! Sou Miriam Mangueira e, juntos, aprenderemos a criar um blog do zero.\n",
        "\n",
        "O Bytebank, considerado o melhor banco digital, nos procurou a fim de criarmos uma estratégia de relacionamento mais próxima dos seus clientes. Muitas pessoas estão migrando dos bancos físicos para os bancos digitais, mas sem ter a mínima ideia de como se usa um cartão de crédito online.\n",
        "\n",
        "Concluímos que, através de um blog, seria muito mais fácil de conversar com esses clientes e mostrar todos os benefícios que o Bytebank oferece. Nesse blog, registraremos o domínio, hospedaremos e integraremos o painel do WordPress a partir de uma ferramenta simples de gestão. Também será necessário passar por etapas importantes de pesquisa, para que todo o conteúdo do blog venha ser interessante e útil para os clientes do banco.\n",
        "\n",
        "A pesquisa de palavras-chave nos indicará qual caminho seguir, problemas precisam de solução, dúvidas que podemos responder e assim dialogaremos com as pessoas com mais proximidade. Há diversas ideias para que o nosso conteúdo seja produzido com mais agilidade e rapidez, orientado para o seu tipo de persona.\n",
        "\"\"\""
      ],
      "execution_count": 79,
      "outputs": []
    },
    {
      "cell_type": "code",
      "metadata": {
        "id": "c4uXHoez-gIO"
      },
      "source": [
        "texto2 = \"\"\"\n",
        "Faça esse curso de Conteúdo e:\n",
        "Crie um projeto de blog.\n",
        "Saiba da importância de montar um blog para a sua Estratégia Digital.\n",
        "Elabore uma estratégia para a geração de leads.\n",
        "Escolha uma plataforma, domínio e opções de hospedagem.\n",
        "Faça conteúdos estratégicos que entregue valor e ajude seus clientes.\n",
        "Conheça o funil de Growth Marketing\n",
        "Automatize processos e tarefas para alimentar seus canal\n",
        "Conteúdo Detalhado\n",
        "Primeiros passos para um Blog Corporativo\n",
        "Criando seu blog\n",
        "Criando seu primeiro post\n",
        "A importância das Palavras-chave\n",
        "Pesquisa de palavras-chave e temas para o conteúdo\n",
        "Personalizando os menus\n",
        "Produzindo conteúdos de alto valor\n",
        "Para quem você escreve\n",
        "Por que você escreve\n",
        "O que escrever\n",
        "Método prático para escrever posts de alto valor\n",
        "Gerando leads através do blog\n",
        "Atraindo Novos Visitantes para o seu Blog Corporativo\n",
        "Configurando seu Formulário do MailChimp para WordPress\n",
        "Criando sua Recompensa Digital com o Canva.com\n",
        "Configurando menus e páginas\n",
        "Escrevendo Menus\n",
        "Escrevendo Páginas\n",
        "\"\"\""
      ],
      "execution_count": 94,
      "outputs": []
    },
    {
      "cell_type": "code",
      "metadata": {
        "colab": {
          "base_uri": "https://localhost:8080/"
        },
        "id": "hf_2u0h9-yXT",
        "outputId": "502ab220-d9f5-49fc-fa37-d8e5d2e110f9"
      },
      "source": [
        "aparicoes = Counter(texto1.lower())\n",
        "total_de_caracteres = sum(aparicoes.values())\n",
        "for letra, frequencia in aparicoes.items():\n",
        "  tupla = (letra, frequencia / total_de_caracteres)\n",
        "  print(tupla)"
      ],
      "execution_count": 85,
      "outputs": [
        {
          "output_type": "stream",
          "text": [
            "('\\n', 0.006855184233076264)\n",
            "('b', 0.01456726649528706)\n",
            "('e', 0.09254498714652956)\n",
            "('m', 0.04284490145672665)\n",
            "('-', 0.001713796058269066)\n",
            "('v', 0.007712082262210797)\n",
            "('i', 0.05912596401028278)\n",
            "('n', 0.03684661525278492)\n",
            "('d', 0.044558697514995714)\n",
            "('o', 0.08911739502999143)\n",
            "('s', 0.08483290488431877)\n",
            "(' ', 0.15681233933161953)\n",
            "('à', 0.000856898029134533)\n",
            "('p', 0.02913453299057412)\n",
            "('r', 0.060839760068551844)\n",
            "('a', 0.08397600685518423)\n",
            "('t', 0.033419023136246784)\n",
            "('c', 0.029991431019708654)\n",
            "('u', 0.023993144815766924)\n",
            "('l', 0.01970865467009426)\n",
            "('g', 0.013710368466152529)\n",
            "('!', 0.000856898029134533)\n",
            "(',', 0.011139674378748929)\n",
            "('j', 0.001713796058269066)\n",
            "('z', 0.002570694087403599)\n",
            "('.', 0.006855184233076264)\n",
            "('y', 0.001713796058269066)\n",
            "('k', 0.001713796058269066)\n",
            "('h', 0.005141388174807198)\n",
            "('f', 0.005141388174807198)\n",
            "('é', 0.003427592116538132)\n",
            "('ó', 0.000856898029134533)\n",
            "('x', 0.001713796058269066)\n",
            "('ã', 0.003427592116538132)\n",
            "('í', 0.004284490145672665)\n",
            "('q', 0.006855184233076264)\n",
            "('á', 0.004284490145672665)\n",
            "('w', 0.000856898029134533)\n",
            "('ú', 0.003427592116538132)\n",
            "('ç', 0.000856898029134533)\n"
          ],
          "name": "stdout"
        }
      ]
    },
    {
      "cell_type": "code",
      "metadata": {
        "id": "GcOv2BWf-8FL"
      },
      "source": [
        "def analisa_frequencia_de_letras(texto):\n",
        "  aparicoes = Counter(texto1.lower())\n",
        "  total_de_caracteres = sum(aparicoes.values())\n",
        "  proporcoes = [(letra, frequencia / total_de_caracteres) for letra, frequencia in aparicoes.items()]\n",
        "  proporcoes = Counter(dict(proporcoes))\n",
        "  mais_comuns = proporcoes.most_common(10)\n",
        "  for caractere, proporcao in mais_comuns:\n",
        "    print(\"{} => {:.2f}%\".format(caractere, proporcao * 100))"
      ],
      "execution_count": 96,
      "outputs": []
    },
    {
      "cell_type": "code",
      "metadata": {
        "colab": {
          "base_uri": "https://localhost:8080/"
        },
        "id": "pDrpOaAtAarz",
        "outputId": "15a7321e-8369-48b8-dea8-d374e340a5db"
      },
      "source": [
        "analisa_frequencia_de_letras(texto1)"
      ],
      "execution_count": 97,
      "outputs": [
        {
          "output_type": "stream",
          "text": [
            "  => 15.68%\n",
            "e => 9.25%\n",
            "o => 8.91%\n",
            "s => 8.48%\n",
            "a => 8.40%\n",
            "r => 6.08%\n",
            "i => 5.91%\n",
            "d => 4.46%\n",
            "m => 4.28%\n",
            "n => 3.68%\n"
          ],
          "name": "stdout"
        }
      ]
    },
    {
      "cell_type": "code",
      "metadata": {
        "colab": {
          "base_uri": "https://localhost:8080/"
        },
        "id": "16_WYsVQBgs5",
        "outputId": "f2744b23-0e15-496d-d11b-d88bf2834e86"
      },
      "source": [
        "analisa_frequencia_de_letras(texto2)\n"
      ],
      "execution_count": 95,
      "outputs": [
        {
          "output_type": "stream",
          "text": [
            "  => 15.68\n",
            "e => 9.25\n",
            "o => 8.91\n",
            "s => 8.48\n",
            "a => 8.40\n",
            "r => 6.08\n",
            "i => 5.91\n",
            "d => 4.46\n",
            "m => 4.28\n",
            "n => 3.68\n"
          ],
          "name": "stdout"
        }
      ]
    },
    {
      "cell_type": "code",
      "metadata": {
        "id": "OLiwZb-QBj8W"
      },
      "source": [
        ""
      ],
      "execution_count": null,
      "outputs": []
    }
  ]
}